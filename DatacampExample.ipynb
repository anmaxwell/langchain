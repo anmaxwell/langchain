{
 "cells": [
  {
   "cell_type": "code",
   "execution_count": null,
   "id": "different-memorabilia",
   "metadata": {},
   "outputs": [],
   "source": [
    "import os\n",
    "import openai\n",
    "from scipy.spatial import distance\n",
    "import plotly.express as px\n",
    "from sklearn.cluster import KMeans\n",
    "from umap import UMAP"
   ]
  },
  {
   "cell_type": "code",
   "execution_count": null,
   "id": "binary-penalty",
   "metadata": {},
   "outputs": [],
   "source": [
    "openai.api_key = \" \""
   ]
  },
  {
   "cell_type": "code",
   "execution_count": null,
   "id": "lasting-bullet",
   "metadata": {},
   "outputs": [],
   "source": [
    "def get_embedding(text_to_embed):\n",
    "    # Embed a line of text\n",
    "    response = openai.Embedding.create(\n",
    "        model= \"text-embedding-ada-002\",\n",
    "        input=[text_to_embed]\n",
    "    )\n",
    "    # Extract the AI output embedding as a list of floats\n",
    "    embedding = response[\"data\"][0][\"embedding\"]\n",
    "    \n",
    "    return embedding"
   ]
  },
  {
   "cell_type": "code",
   "execution_count": null,
   "id": "desirable-panic",
   "metadata": {},
   "outputs": [],
   "source": [
    "import pandas as pd\n",
    "\n",
    "data_URL =  \"https://raw.githubusercontent.com/keitazoumana/Experimentation-Data/main/Musical_instruments_reviews.csv\"\n",
    "\n",
    "review_df = pd.read_csv(data_URL)\n",
    "review_df.head()"
   ]
  },
  {
   "cell_type": "code",
   "execution_count": null,
   "id": "tropical-generator",
   "metadata": {},
   "outputs": [],
   "source": [
    "review_df = review_df[['reviewText']]\n",
    "print(\"Data shape: {}\".format(review_df.shape))\n",
    "display(review_df.head())"
   ]
  },
  {
   "cell_type": "code",
   "execution_count": null,
   "id": "british-spirituality",
   "metadata": {},
   "outputs": [],
   "source": [
    "!openai migrate\n"
   ]
  },
  {
   "cell_type": "code",
   "execution_count": null,
   "id": "threatened-damage",
   "metadata": {},
   "outputs": [],
   "source": [
    "review_df = review_df.sample(100)\n",
    "review_df[\"embedding\"] = review_df[\"reviewText\"].astype(str).apply(get_embedding)\n",
    "\n",
    "# Make the index start from 0\n",
    "review_df.reset_index(drop=True)\n",
    "\n",
    "review_df.head(10)"
   ]
  }
 ],
 "metadata": {
  "kernelspec": {
   "display_name": "Python 3",
   "language": "python",
   "name": "python3"
  },
  "language_info": {
   "codemirror_mode": {
    "name": "ipython",
    "version": 3
   },
   "file_extension": ".py",
   "mimetype": "text/x-python",
   "name": "python",
   "nbconvert_exporter": "python",
   "pygments_lexer": "ipython3",
   "version": "3.9.1"
  }
 },
 "nbformat": 4,
 "nbformat_minor": 5
}
