{
 "cells": [
  {
   "cell_type": "code",
   "execution_count": null,
   "id": "9e536193-6274-4c46-aa91-bcf2eba295d4",
   "metadata": {},
   "outputs": [],
   "source": [
    "# start ollama run llama3"
   ]
  },
  {
   "cell_type": "code",
   "execution_count": null,
   "id": "0a7fbc56-4808-4bc8-a99f-edc45605c79f",
   "metadata": {},
   "outputs": [],
   "source": [
    "import json\n",
    "import requests"
   ]
  },
  {
   "cell_type": "code",
   "execution_count": null,
   "id": "411656f0-9c4b-49bc-ada3-4dc9d20ae19d",
   "metadata": {},
   "outputs": [],
   "source": [
    "# calculating similarities"
   ]
  },
  {
   "cell_type": "code",
   "execution_count": null,
   "id": "623bba0e-7ba6-4839-aa11-7b537036f8c9",
   "metadata": {},
   "outputs": [],
   "source": [
    "def jaccard_similarity(query, document):\n",
    "    query = query.lower().split(\" \")\n",
    "    document = document.lower().split(\" \")\n",
    "    intersection = set(query).intersection(set(document))\n",
    "    union = set(query).union(set(document))\n",
    "    return len(intersection)/len(union)"
   ]
  },
  {
   "cell_type": "code",
   "execution_count": null,
   "id": "51e65212-ebf4-4608-ae9d-96cca6ee8716",
   "metadata": {},
   "outputs": [],
   "source": [
    "# identifying relevant document"
   ]
  },
  {
   "cell_type": "code",
   "execution_count": null,
   "id": "b9690d84-20e0-40cd-98b6-838833ba7717",
   "metadata": {},
   "outputs": [],
   "source": [
    "def return_response(query, corpus):\n",
    "    similarities = []\n",
    "    for doc in corpus:\n",
    "        similarity = jaccard_similarity(user_input, doc)\n",
    "        similarities.append(similarity)\n",
    "    return corpus_of_documents[similarities.index(max(similarities))]"
   ]
  },
  {
   "cell_type": "code",
   "execution_count": null,
   "id": "20f88f08-d380-4394-b61b-b7fc59be900a",
   "metadata": {},
   "outputs": [],
   "source": [
    "corpus_of_documents = [\n",
    "    \"Take a leisurely walk in the park and enjoy the fresh air.\",\n",
    "    \"Visit a local museum and discover something new.\",\n",
    "    \"Attend a live music concert and feel the rhythm.\",\n",
    "    \"Go for a hike and admire the natural scenery.\",\n",
    "    \"Have a picnic with friends and share some laughs.\",\n",
    "    \"Explore a new cuisine by dining at an ethnic restaurant.\",\n",
    "    \"Take a yoga class and stretch your body and mind.\",\n",
    "    \"Join a local sports league and enjoy some friendly competition.\",\n",
    "    \"Attend a workshop or lecture on a topic you're interested in.\",\n",
    "    \"Visit an amusement park and ride the roller coasters.\"\n",
    "]"
   ]
  },
  {
   "cell_type": "code",
   "execution_count": null,
   "id": "1be231fe-7cf7-41f2-9c32-f57dbc82bc63",
   "metadata": {},
   "outputs": [],
   "source": [
    "user_input = \"I hate to hike\""
   ]
  },
  {
   "cell_type": "code",
   "execution_count": null,
   "id": "7b7873f3-e4c7-4474-99c7-3f5a53eb5d44",
   "metadata": {},
   "outputs": [],
   "source": [
    "relevant_document = return_response(user_input, corpus_of_documents)\n",
    "full_response = []\n",
    "# https://github.com/jmorganca/ollama/blob/main/docs/api.md\n",
    "prompt = \"\"\"\n",
    "You are a bot that makes recommendations for activities. You answer in very short sentences and do not include extra information.\n",
    "This is the recommended activity: {relevant_document}\n",
    "The user input is: {user_input}\n",
    "Compile a recommendation to the user based on the recommended activity and the user input.\n",
    "\"\"\""
   ]
  },
  {
   "cell_type": "code",
   "execution_count": null,
   "id": "247de68b-57b9-482c-9558-652707d62aab",
   "metadata": {},
   "outputs": [],
   "source": [
    "url = 'http://localhost:11434/api/generate'\n",
    "data = {\n",
    "    \"model\": \"llama3\",\n",
    "    \"prompt\": prompt.format(user_input=user_input, relevant_document=relevant_document)\n",
    "}\n",
    "headers = {'Content-Type': 'application/json'}\n",
    "response = requests.post(url, data=json.dumps(data), headers=headers, stream=True)\n",
    "try:\n",
    "    count = 0\n",
    "    for line in response.iter_lines():\n",
    "        # filter out keep-alive new lines\n",
    "        # count += 1\n",
    "        # if count % 5== 0:\n",
    "        #     print(decoded_line['response']) # print every fifth token\n",
    "        if line:\n",
    "            decoded_line = json.loads(line.decode('utf-8'))\n",
    "            \n",
    "            full_response.append(decoded_line['response'])\n",
    "finally:\n",
    "    response.close()\n",
    "print(''.join(full_response))\n"
   ]
  },
  {
   "cell_type": "code",
   "execution_count": null,
   "id": "511f8dbd-952e-4abc-8aed-7c5c399a0a3f",
   "metadata": {},
   "outputs": [],
   "source": []
  }
 ],
 "metadata": {
  "kernelspec": {
   "display_name": "Python 3 (ipykernel)",
   "language": "python",
   "name": "python3"
  },
  "language_info": {
   "codemirror_mode": {
    "name": "ipython",
    "version": 3
   },
   "file_extension": ".py",
   "mimetype": "text/x-python",
   "name": "python",
   "nbconvert_exporter": "python",
   "pygments_lexer": "ipython3",
   "version": "3.9.6"
  }
 },
 "nbformat": 4,
 "nbformat_minor": 5
}
