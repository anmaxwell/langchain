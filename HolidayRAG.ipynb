{
 "cells": [
  {
   "cell_type": "code",
   "execution_count": null,
   "id": "926accc7-7cf5-4259-b8ce-136ac936a2e3",
   "metadata": {},
   "outputs": [],
   "source": [
    "## Project to read in all tours from explore.co.uk\n",
    "# Use this output to be able to recommend tours given a request from a user"
   ]
  },
  {
   "cell_type": "code",
   "execution_count": null,
   "id": "7d077aa5-f32a-433a-a124-5fd7a85f90b8",
   "metadata": {},
   "outputs": [],
   "source": [
    "# start the llm\n",
    "#> ollama run llama3"
   ]
  },
  {
   "cell_type": "code",
   "execution_count": null,
   "id": "d613f135-7394-49de-a94e-56cc822b6f5c",
   "metadata": {},
   "outputs": [],
   "source": [
    "# import libraries"
   ]
  },
  {
   "cell_type": "code",
   "execution_count": null,
   "id": "b58f8c21-5e47-4f9d-bd37-30264ba36d3f",
   "metadata": {},
   "outputs": [],
   "source": [
    "import json\n",
    "import requests\n",
    "import html5lib\n",
    "import bs4\n",
    "from bs4 import BeautifulSoup "
   ]
  },
  {
   "cell_type": "code",
   "execution_count": null,
   "id": "aebb9b7f-e1fc-4825-ab85-4d5f48354c02",
   "metadata": {},
   "outputs": [],
   "source": [
    "## define functions to be used"
   ]
  },
  {
   "cell_type": "code",
   "execution_count": null,
   "id": "ae45eb72-5fc1-4f15-8521-70d8eb54a5df",
   "metadata": {},
   "outputs": [],
   "source": [
    "# function for calculating similarities"
   ]
  },
  {
   "cell_type": "code",
   "execution_count": null,
   "id": "6b6736f6-7a6c-4ef3-b8db-c02114f144cb",
   "metadata": {},
   "outputs": [],
   "source": [
    "def jaccard_similarity(query, document):\n",
    "    query = query.lower().split(\" \")\n",
    "    document = document.lower().split(\" \")\n",
    "    intersection = set(query).intersection(set(document))\n",
    "    union = set(query).union(set(document))\n",
    "    return len(intersection)/len(union)"
   ]
  },
  {
   "cell_type": "code",
   "execution_count": null,
   "id": "15e20298-8185-4232-aec2-fe31b72b7c80",
   "metadata": {},
   "outputs": [],
   "source": [
    "# function to return similarities of documents"
   ]
  },
  {
   "cell_type": "code",
   "execution_count": null,
   "id": "062c881a-91b6-4da6-8335-39de9de4c9a2",
   "metadata": {},
   "outputs": [],
   "source": [
    "def return_response(query, corpus):\n",
    "    similarities = []\n",
    "    for doc in corpus:\n",
    "        similarity = jaccard_similarity(user_input, doc)\n",
    "        similarities.append(similarity)\n",
    "    return corpus_of_documents[similarities.index(max(similarities))]"
   ]
  },
  {
   "cell_type": "code",
   "execution_count": null,
   "id": "5495bb0a-2021-4ada-8184-4a7af62b6f2c",
   "metadata": {},
   "outputs": [],
   "source": [
    "# read in a list of urls to scrape the tour details from"
   ]
  },
  {
   "cell_type": "code",
   "execution_count": null,
   "id": "32922d41-61e6-42b7-9aec-ae1e7ac3f204",
   "metadata": {},
   "outputs": [],
   "source": [
    "tour_urls = []\n",
    "corpus_of_documents = {}"
   ]
  },
  {
   "cell_type": "code",
   "execution_count": null,
   "id": "acf17100-dc79-4c23-8008-aaff5812a09d",
   "metadata": {},
   "outputs": [],
   "source": [
    "# iterate through the list and get the itinery for each tour"
   ]
  },
  {
   "cell_type": "code",
   "execution_count": null,
   "id": "e019bcb3-1f28-4119-b577-064d4252a9f7",
   "metadata": {},
   "outputs": [],
   "source": [
    "for url in tour_urls:\n",
    "    r = requests.get(URL)\n",
    "    soup = BeautifulSoup(r.content, 'html5lib')\n",
    "\n",
    "    tour = soup.title\n",
    "    table = soup.find('div', attrs = {'id':'itinerary'})\n",
    "\n",
    "    itinerary = []  # a list to store quotes\n",
    "    for row in table.findAll('div', attrs = {'class':'pr-i-desc'})): \n",
    "        itinerary.append(row.p)\n",
    "\n",
    "    corpus_of_documents['author'] = itinerary\n"
   ]
  },
  {
   "cell_type": "code",
   "execution_count": null,
   "id": "38cb6273-9976-41ae-90c0-ceff5beac34a",
   "metadata": {},
   "outputs": [],
   "source": []
  },
  {
   "cell_type": "code",
   "execution_count": null,
   "id": "7cff3a36-0a28-466a-ac86-4ab2712bd32c",
   "metadata": {},
   "outputs": [],
   "source": [
    "# define corpus"
   ]
  },
  {
   "cell_type": "code",
   "execution_count": null,
   "id": "ca729236-7303-4eaa-a9a3-cd79815d2ac9",
   "metadata": {},
   "outputs": [],
   "source": []
  },
  {
   "cell_type": "code",
   "execution_count": null,
   "id": "3b58a0b8-b97a-47a6-b823-64a5e9a041f6",
   "metadata": {},
   "outputs": [],
   "source": [
    "# user input = \"\""
   ]
  },
  {
   "cell_type": "code",
   "execution_count": null,
   "id": "6bca690d-c131-4388-8316-3c0387d18778",
   "metadata": {},
   "outputs": [],
   "source": []
  },
  {
   "cell_type": "code",
   "execution_count": null,
   "id": "9ec29992-78c4-417d-98b3-15a66c116a98",
   "metadata": {},
   "outputs": [],
   "source": [
    "# find the relevant document"
   ]
  },
  {
   "cell_type": "code",
   "execution_count": null,
   "id": "8038901a-eebe-48ef-aadf-94e839b68ac6",
   "metadata": {},
   "outputs": [],
   "source": [
    "relevant_document = return_response(user_input, corpus_of_documents)"
   ]
  },
  {
   "cell_type": "code",
   "execution_count": null,
   "id": "c3f82c6b-1f3b-4493-9964-73ee6eefaf7f",
   "metadata": {},
   "outputs": [],
   "source": [
    "# create prompt"
   ]
  },
  {
   "cell_type": "code",
   "execution_count": null,
   "id": "a43e9813-6d1c-402c-9612-ecdb2d534e3b",
   "metadata": {},
   "outputs": [],
   "source": [
    "prompt = \"\"\"\n",
    "You are a bot that makes recommendations for holidays. You answer with facts, highlighting pros and cons.\n",
    "This is the recommended holiday: {relevant_document}\n",
    "The user input is: {user_input}\n",
    "Compile a recommendation to the user based on the recommended activity and the user input.\n",
    "\"\"\""
   ]
  },
  {
   "cell_type": "code",
   "execution_count": null,
   "id": "94bf81b9-61c8-481e-89b2-0654b8c6be09",
   "metadata": {},
   "outputs": [],
   "source": [
    "# setup llama3\n",
    "url = 'http://localhost:11434/api/generate'\n",
    "data = {\n",
    "    \"model\": \"llama3\",\n",
    "    \"prompt\": prompt.format(user_input=user_input, relevant_document=relevant_document)\n",
    "}\n",
    "headers = {'Content-Type': 'application/json'}\n",
    "response = requests.post(url, data=json.dumps(data), headers=headers, stream=True)"
   ]
  },
  {
   "cell_type": "code",
   "execution_count": null,
   "id": "72c5b3cd-1882-4258-921e-37b2ad333c97",
   "metadata": {},
   "outputs": [],
   "source": [
    "# generate and return the response"
   ]
  },
  {
   "cell_type": "code",
   "execution_count": null,
   "id": "aa648c9d-82db-41be-ace3-1b5e58778d9e",
   "metadata": {},
   "outputs": [],
   "source": [
    "full_response = []\n",
    "try:\n",
    "    count = 0\n",
    "    for line in response.iter_lines():\n",
    "        # filter out keep-alive new lines\n",
    "        # count += 1\n",
    "        # if count % 5== 0:\n",
    "        #     print(decoded_line['response']) # print every fifth token\n",
    "        if line:\n",
    "            decoded_line = json.loads(line.decode('utf-8'))\n",
    "            \n",
    "            full_response.append(decoded_line['response'])\n",
    "finally:\n",
    "    response.close()\n",
    "print(''.join(full_response))"
   ]
  },
  {
   "cell_type": "code",
   "execution_count": null,
   "id": "478d2e10-76f8-4a23-9588-e029a6e7f009",
   "metadata": {},
   "outputs": [],
   "source": []
  },
  {
   "cell_type": "code",
   "execution_count": null,
   "id": "4b5f9ddd-a0ed-4b25-9599-e4dcfe5b045f",
   "metadata": {},
   "outputs": [],
   "source": []
  },
  {
   "cell_type": "code",
   "execution_count": null,
   "id": "18dca1c6-18ee-4ce7-b9a3-145e7a84b235",
   "metadata": {},
   "outputs": [],
   "source": []
  },
  {
   "cell_type": "code",
   "execution_count": null,
   "id": "9a5a328a-6b76-469c-bd04-fa637ec0b6cf",
   "metadata": {},
   "outputs": [],
   "source": []
  },
  {
   "cell_type": "code",
   "execution_count": null,
   "id": "6c5fc218-0be6-4a78-8145-a9a3900de98e",
   "metadata": {},
   "outputs": [],
   "source": [
    "filename = 'inspirational_quotes.csv'\n",
    "with open(filename, 'w', newline='') as f:\n",
    "    w = csv.DictWriter(f,['theme','url','img','lines','author'])\n",
    "    w.writeheader()\n",
    "    for quote in quotes:\n",
    "        w.writerow(quote)"
   ]
  },
  {
   "cell_type": "code",
   "execution_count": null,
   "id": "d818d62e-79cb-4661-a973-e39c1ef414bf",
   "metadata": {},
   "outputs": [],
   "source": []
  },
  {
   "cell_type": "code",
   "execution_count": null,
   "id": "a8d1138a-cde1-4367-9309-a18df5386abf",
   "metadata": {},
   "outputs": [],
   "source": []
  },
  {
   "cell_type": "code",
   "execution_count": null,
   "id": "051d539f-7b98-4af2-a0aa-95e5164ffa34",
   "metadata": {},
   "outputs": [],
   "source": [
    "# close llama3\n",
    "#> /bye"
   ]
  }
 ],
 "metadata": {
  "kernelspec": {
   "display_name": "Python 3 (ipykernel)",
   "language": "python",
   "name": "python3"
  },
  "language_info": {
   "codemirror_mode": {
    "name": "ipython",
    "version": 3
   },
   "file_extension": ".py",
   "mimetype": "text/x-python",
   "name": "python",
   "nbconvert_exporter": "python",
   "pygments_lexer": "ipython3",
   "version": "3.9.6"
  }
 },
 "nbformat": 4,
 "nbformat_minor": 5
}
