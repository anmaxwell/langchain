{
 "cells": [
  {
   "cell_type": "code",
   "execution_count": null,
   "id": "0c6c03ed-61c5-49b0-b745-60be51bc622a",
   "metadata": {},
   "outputs": [],
   "source": [
    "import json\n",
    "import requests\n",
    "import html5lib\n",
    "import bs4\n",
    "from bs4 import BeautifulSoup"
   ]
  },
  {
   "cell_type": "code",
   "execution_count": null,
   "id": "18b4d818-4fa9-4d1e-b316-187928d65a50",
   "metadata": {},
   "outputs": [],
   "source": [
    "# start the llm\n",
    "#> ollama run llama3"
   ]
  },
  {
   "cell_type": "code",
   "execution_count": null,
   "id": "d9521468-ecab-4a68-b5d4-84e3a1db19a9",
   "metadata": {},
   "outputs": [],
   "source": [
    "def get_llama_response(query, corpus_of_documents):\n",
    "    # create the prompt\n",
    "    prompt = \"\"\"\n",
    "    You are a bot that makes recommendations for holidays. You answer with facts, highlighting pros and cons.\n",
    "    These are the recommended holidays: {corpus_of_documents}\n",
    "    These are the tour names: {tours}\n",
    "    The user input is: {user_input}\n",
    "    Compile a recommendation to the user based on the recommended activities and the user input.\n",
    "    \"\"\"\n",
    "    # setup llama3\n",
    "    url = 'http://localhost:11434/api/generate'\n",
    "    data = {\n",
    "        \"model\": \"llama3\",\n",
    "        \"prompt\": prompt.format(user_input=user_input, corpus_of_documents=corpus_of_documents, tours=tours)\n",
    "    }\n",
    "    headers = {'Content-Type': 'application/json'}\n",
    "    response = requests.post(url, data=json.dumps(data), headers=headers, stream=True)\n",
    "\n",
    "    # generate and return the response\n",
    "    full_response = []\n",
    "    try:\n",
    "        count = 0\n",
    "        for line in response.iter_lines():\n",
    "            if line:\n",
    "                decoded_line = json.loads(line.decode('utf-8'))\n",
    "                \n",
    "                full_response.append(decoded_line['response'])\n",
    "    finally:\n",
    "        response.close()\n",
    "    \n",
    "    return full_response"
   ]
  },
  {
   "cell_type": "code",
   "execution_count": null,
   "id": "f3e2c60a-fffe-498a-b6fb-9acfa5b09c21",
   "metadata": {},
   "outputs": [],
   "source": [
    "tour_urls = ['https://www.explore.co.uk/holidays/machu-picchu-trek',\n",
    "             'https://www.explore.co.uk/holidays/vietnam-historic-tour',\n",
    "             'https://www.explore.co.uk/holidays/cycling-holiday-morocco']"
   ]
  },
  {
   "cell_type": "code",
   "execution_count": null,
   "id": "260d812d-3a27-41ec-b6e7-5b743ba1e981",
   "metadata": {},
   "outputs": [],
   "source": [
    "contents = []\n",
    "tours = []\n",
    "for index, url in enumerate(tour_urls):\n",
    "    r = requests.get(url)\n",
    "    soup = BeautifulSoup(r.content, 'html5lib')\n",
    "\n",
    "    tours.append(soup.title.get_text().replace('\\n', ' ').replace('\\t', ''))\n",
    "    table = soup.find('div', attrs = {'id':'itinerary'})\n",
    "\n",
    "    itinerary = []  # a list to store quotes\n",
    "    for row in table.findAll('div', attrs = {'class':'pr-i-desc'}): \n",
    "        itinerary.append(row.p.get_text())\n",
    "\n",
    "    contents.append(itinerary)"
   ]
  },
  {
   "cell_type": "code",
   "execution_count": null,
   "id": "594b3ac7-b4df-47a6-862b-348378eef305",
   "metadata": {},
   "outputs": [],
   "source": [
    "corpus_of_documents = []\n",
    "for item in contents:\n",
    "    full_details = ' '.join(item)\n",
    "    corpus_of_documents.append(full_details)"
   ]
  },
  {
   "cell_type": "code",
   "execution_count": null,
   "id": "77797bc0-6f05-4d41-bf6a-6a0ca7092a5a",
   "metadata": {},
   "outputs": [],
   "source": [
    "user_input = \"I'd like to visit South America and visit Machu Picchu\""
   ]
  },
  {
   "cell_type": "code",
   "execution_count": null,
   "id": "5a63de59-a88b-4aa5-ba72-affc7fe47d1d",
   "metadata": {},
   "outputs": [],
   "source": [
    "test_output = get_llama_response(user_input, corpus_of_documents)"
   ]
  },
  {
   "cell_type": "code",
   "execution_count": null,
   "id": "1d90821e-8bb5-4547-9285-6e60c3af234c",
   "metadata": {},
   "outputs": [],
   "source": [
    "print(''.join(test_output))"
   ]
  },
  {
   "cell_type": "code",
   "execution_count": null,
   "id": "24b9ae44-fe91-4896-a45f-e03f17d29503",
   "metadata": {},
   "outputs": [],
   "source": []
  }
 ],
 "metadata": {
  "kernelspec": {
   "display_name": "Python 3 (ipykernel)",
   "language": "python",
   "name": "python3"
  },
  "language_info": {
   "codemirror_mode": {
    "name": "ipython",
    "version": 3
   },
   "file_extension": ".py",
   "mimetype": "text/x-python",
   "name": "python",
   "nbconvert_exporter": "python",
   "pygments_lexer": "ipython3",
   "version": "3.9.6"
  }
 },
 "nbformat": 4,
 "nbformat_minor": 5
}
