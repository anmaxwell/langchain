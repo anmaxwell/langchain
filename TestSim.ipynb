{
 "cells": [
  {
   "cell_type": "code",
   "execution_count": 5,
   "id": "34245488-7c67-48d9-94ba-4e7690b1a434",
   "metadata": {},
   "outputs": [],
   "source": [
    "import json\n",
    "import requests\n",
    "import html5lib\n",
    "import bs4\n",
    "from bs4 import BeautifulSoup\n",
    "import scipy\n",
    "import gensim\n",
    "import gensim.downloader as api\n",
    "\n",
    "import nltk\n",
    "from nltk.tokenize import word_tokenize, sent_tokenize"
   ]
  },
  {
   "cell_type": "code",
   "execution_count": 6,
   "id": "e4e35027-7fb9-4c70-9e8d-39fbb2006d1c",
   "metadata": {},
   "outputs": [],
   "source": [
    "tour_urls = ['https://www.explore.co.uk/holidays/machu-picchu-trek',\n",
    "             'https://www.explore.co.uk/holidays/vietnam-historic-tour']"
   ]
  },
  {
   "cell_type": "code",
   "execution_count": 7,
   "id": "c8f5b41b-b50a-4895-a2fa-2443d34d1d6b",
   "metadata": {},
   "outputs": [],
   "source": [
    "def return_response(sim_func, query, corpus):\n",
    "    similarities = []\n",
    "    for doc in corpus:\n",
    "        similarity = sim_func(user_input, doc)\n",
    "        print(similarity)\n",
    "        similarities.append(similarity)\n",
    "        tour_id = similarities.index(max(similarities))\n",
    "    return tour_id, corpus_of_documents[similarities.index(max(similarities))]"
   ]
  },
  {
   "cell_type": "code",
   "execution_count": 8,
   "id": "8f96e26e-4e2d-407e-afc6-28885786020f",
   "metadata": {},
   "outputs": [],
   "source": [
    "contents = []\n",
    "tours = []\n",
    "for index, url in enumerate(tour_urls):\n",
    "    r = requests.get(url)\n",
    "    soup = BeautifulSoup(r.content, 'html5lib')\n",
    "\n",
    "    tours.append(soup.title.get_text().replace('\\n', ' ').replace('\\t', ''))\n",
    "    table = soup.find('div', attrs = {'id':'itinerary'})\n",
    "\n",
    "    itinerary = []  # a list to store quotes\n",
    "    for row in table.findAll('div', attrs = {'class':'pr-i-desc'}): \n",
    "        itinerary.append(row.p.get_text())\n",
    "\n",
    "    contents.append(itinerary)"
   ]
  },
  {
   "cell_type": "code",
   "execution_count": 9,
   "id": "38809e73-05d6-41a6-9e6f-655d323f7e93",
   "metadata": {},
   "outputs": [],
   "source": [
    "corpus_of_documents = []\n",
    "for item in contents:\n",
    "    full_details = ' '.join(item)\n",
    "    corpus_of_documents.append(full_details)"
   ]
  },
  {
   "cell_type": "code",
   "execution_count": 19,
   "id": "05c5fb96-2f40-47ff-85f2-e1e21baafd30",
   "metadata": {},
   "outputs": [],
   "source": [
    "text_1 = \"I'd like to visit South America and visit Machu Picchu\""
   ]
  },
  {
   "cell_type": "code",
   "execution_count": 11,
   "id": "ed8f8638-b8f6-450d-927f-111880128e8c",
   "metadata": {},
   "outputs": [],
   "source": [
    "gen_docs = [[w.lower() for w in word_tokenize(text)]\n",
    "        for text in corpus_of_documents]"
   ]
  },
  {
   "cell_type": "code",
   "execution_count": 12,
   "id": "bf53f2af-b045-44f9-ac4f-19790946463c",
   "metadata": {},
   "outputs": [],
   "source": [
    "dictionary = gensim.corpora.Dictionary(gen_docs)"
   ]
  },
  {
   "cell_type": "code",
   "execution_count": 15,
   "id": "cb5b7795-ce84-4635-8b2d-95581d25f7a5",
   "metadata": {},
   "outputs": [],
   "source": [
    "corpus = [dictionary.doc2bow(gen_doc) for gen_doc in gen_docs]"
   ]
  },
  {
   "cell_type": "code",
   "execution_count": 16,
   "id": "61b12731-50f9-4ad1-bd9c-89e3ed35b1bb",
   "metadata": {},
   "outputs": [
    {
     "name": "stdout",
     "output_type": "stream",
     "text": [
      "TfidfModel<num_docs=2, num_nnz=1010>\n"
     ]
    }
   ],
   "source": [
    "tf_idf = gensim.models.TfidfModel(corpus)"
   ]
  },
  {
   "cell_type": "code",
   "execution_count": 17,
   "id": "36d77e5a-0df9-4224-b906-e97ee2de91c3",
   "metadata": {},
   "outputs": [],
   "source": [
    "sims = gensim.similarities.Similarity('workdir/',tf_idf[corpus],\n",
    "                                        num_features=len(dictionary))"
   ]
  },
  {
   "cell_type": "code",
   "execution_count": 20,
   "id": "d25324bc-239f-4ca4-8715-8297fffb4f86",
   "metadata": {},
   "outputs": [],
   "source": [
    "query_doc = [w.lower() for w in word_tokenize(text_1)]\n",
    "query_doc_bow = dictionary.doc2bow(query_doc)"
   ]
  },
  {
   "cell_type": "code",
   "execution_count": 21,
   "id": "d0f1609b-94e4-484e-9c87-21f92d06d67b",
   "metadata": {},
   "outputs": [
    {
     "name": "stdout",
     "output_type": "stream",
     "text": [
      "Comparing Result: [0.10122204 0.02598499]\n"
     ]
    }
   ],
   "source": [
    "# perform a similarity query against the corpus\n",
    "query_doc_tf_idf = tf_idf[query_doc_bow]\n",
    "# print(document_number, document_similarity)\n",
    "print('Comparing Result:', sims[query_doc_tf_idf]) "
   ]
  },
  {
   "cell_type": "code",
   "execution_count": null,
   "id": "59aa6bbc-d2f8-429b-a707-a7a05fd19840",
   "metadata": {},
   "outputs": [],
   "source": []
  },
  {
   "cell_type": "code",
   "execution_count": null,
   "id": "e7883d02-652a-4ff6-9fe5-8ddee8d50c04",
   "metadata": {},
   "outputs": [],
   "source": []
  },
  {
   "cell_type": "code",
   "execution_count": null,
   "id": "cd33c9e2-6bf7-4718-b126-5f9e0b60f2a4",
   "metadata": {},
   "outputs": [],
   "source": []
  },
  {
   "cell_type": "code",
   "execution_count": null,
   "id": "89e8280a-f2ed-43c0-8ede-0a060b7a57b6",
   "metadata": {},
   "outputs": [],
   "source": []
  },
  {
   "cell_type": "code",
   "execution_count": null,
   "id": "e9fec924-b1e3-4ed6-8ec3-0edb3a8697aa",
   "metadata": {},
   "outputs": [],
   "source": []
  },
  {
   "cell_type": "code",
   "execution_count": null,
   "id": "d555ba17-3328-4712-b5e9-3bec2b1bedb7",
   "metadata": {},
   "outputs": [],
   "source": []
  },
  {
   "cell_type": "code",
   "execution_count": null,
   "id": "1d07c45e-af1d-4f04-bc13-dbf95598ac4f",
   "metadata": {},
   "outputs": [],
   "source": []
  },
  {
   "cell_type": "code",
   "execution_count": null,
   "id": "4fda3afc-12ce-40dc-97c2-2c0df2f07ecc",
   "metadata": {},
   "outputs": [],
   "source": []
  }
 ],
 "metadata": {
  "kernelspec": {
   "display_name": "Python 3 (ipykernel)",
   "language": "python",
   "name": "python3"
  },
  "language_info": {
   "codemirror_mode": {
    "name": "ipython",
    "version": 3
   },
   "file_extension": ".py",
   "mimetype": "text/x-python",
   "name": "python",
   "nbconvert_exporter": "python",
   "pygments_lexer": "ipython3",
   "version": "3.9.6"
  }
 },
 "nbformat": 4,
 "nbformat_minor": 5
}
