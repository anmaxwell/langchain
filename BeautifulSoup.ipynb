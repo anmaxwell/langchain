{
 "cells": [
  {
   "cell_type": "code",
   "execution_count": null,
   "id": "66a1379c-a4bf-4be0-997a-64fff0700f73",
   "metadata": {},
   "outputs": [],
   "source": [
    "import json\n",
    "import requests\n",
    "import html5lib\n",
    "import bs4\n",
    "from bs4 import BeautifulSoup"
   ]
  },
  {
   "cell_type": "code",
   "execution_count": null,
   "id": "5853e740-274e-43f1-8a81-c4a6aa1eab0d",
   "metadata": {},
   "outputs": [],
   "source": [
    "tour_urls = ['https://www.explore.co.uk/holidays/machu-picchu-trek',\n",
    "             'https://www.explore.co.uk/holidays/vietnam-historic-tour',\n",
    "             'https://www.explore.co.uk/holidays/cycling-holiday-morocco']"
   ]
  },
  {
   "cell_type": "code",
   "execution_count": null,
   "id": "20acb942-6a1c-4c88-a4dc-99d8c8d3fc45",
   "metadata": {},
   "outputs": [],
   "source": [
    "contents = []\n",
    "tours = []\n",
    "for index, url in enumerate(tour_urls):\n",
    "    r = requests.get(url)\n",
    "    soup = BeautifulSoup(r.content, 'html5lib')\n",
    "\n",
    "    # store the title of each tour in a list\n",
    "    tours.append(soup.title.get_text().replace('\\n', ' ').replace('\\t', ''))\n",
    "    \n",
    "    tour_info = []  # a list to store the info of each tour\n",
    "    header_info = soup.find_all('p', class_='wyg-text-info')\n",
    "    for header in header_info:\n",
    "        tour_info.append(header.get_text(strip=True))\n",
    "\n",
    "    detailed_info = soup.find_all('li', class_='wyg-intro-list-item')\n",
    "    for detail in detailed_info:\n",
    "        tour_info.append(detail.get_text(strip=True))\n",
    "\n",
    "    contents.append(tour_info)"
   ]
  },
  {
   "cell_type": "code",
   "execution_count": null,
   "id": "27d6d1d2-13af-4c42-b21e-d9eb2c0590c3",
   "metadata": {},
   "outputs": [],
   "source": [
    "contents"
   ]
  },
  {
   "cell_type": "code",
   "execution_count": null,
   "id": "33399538-4693-4813-b670-3a08bc586051",
   "metadata": {},
   "outputs": [],
   "source": [
    "corpus_of_documents = []\n",
    "for item in contents:\n",
    "    full_details = ' '.join(item)\n",
    "    corpus_of_documents.append(full_details)"
   ]
  },
  {
   "cell_type": "code",
   "execution_count": null,
   "id": "6a5012a8-26c6-4f7c-83e6-3ccd8b9f365a",
   "metadata": {},
   "outputs": [],
   "source": [
    "contents[1]"
   ]
  },
  {
   "cell_type": "code",
   "execution_count": null,
   "id": "8697daea-7238-4279-bca0-d6c4a945d5f0",
   "metadata": {},
   "outputs": [],
   "source": []
  }
 ],
 "metadata": {
  "kernelspec": {
   "display_name": "Python 3 (ipykernel)",
   "language": "python",
   "name": "python3"
  },
  "language_info": {
   "codemirror_mode": {
    "name": "ipython",
    "version": 3
   },
   "file_extension": ".py",
   "mimetype": "text/x-python",
   "name": "python",
   "nbconvert_exporter": "python",
   "pygments_lexer": "ipython3",
   "version": "3.9.6"
  }
 },
 "nbformat": 4,
 "nbformat_minor": 5
}
