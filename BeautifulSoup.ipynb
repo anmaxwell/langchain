{
 "cells": [
  {
   "cell_type": "code",
   "execution_count": 1,
   "id": "66a1379c-a4bf-4be0-997a-64fff0700f73",
   "metadata": {},
   "outputs": [
    {
     "name": "stderr",
     "output_type": "stream",
     "text": [
      "/Users/ania/code/python/simple_rag/langchain/env/lib/python3.9/site-packages/urllib3/__init__.py:35: NotOpenSSLWarning: urllib3 v2 only supports OpenSSL 1.1.1+, currently the 'ssl' module is compiled with 'LibreSSL 2.8.3'. See: https://github.com/urllib3/urllib3/issues/3020\n",
      "  warnings.warn(\n"
     ]
    }
   ],
   "source": [
    "import json\n",
    "import requests\n",
    "import html5lib\n",
    "import bs4\n",
    "from bs4 import BeautifulSoup"
   ]
  },
  {
   "cell_type": "code",
   "execution_count": 6,
   "id": "5853e740-274e-43f1-8a81-c4a6aa1eab0d",
   "metadata": {},
   "outputs": [],
   "source": [
    "tour_urls = ['https://www.explore.co.uk/holidays/machu-picchu-trek',\n",
    "             'https://www.explore.co.uk/holidays/vietnam-historic-tour',\n",
    "             'https://www.explore.co.uk/holidays/cycling-holiday-morocco']"
   ]
  },
  {
   "cell_type": "code",
   "execution_count": 22,
   "id": "20acb942-6a1c-4c88-a4dc-99d8c8d3fc45",
   "metadata": {},
   "outputs": [],
   "source": [
    "contents = []\n",
    "tours = []\n",
    "for index, url in enumerate(tour_urls):\n",
    "    r = requests.get(url)\n",
    "    soup = BeautifulSoup(r.content, 'html5lib')\n",
    "\n",
    "    # store the title of each tour in a list\n",
    "    tours.append(soup.title.get_text().replace('\\n', ' ').replace('\\t', ''))\n",
    "    \n",
    "    tour_info = []  # a list to store the info of each tour\n",
    "    header_info = soup.find_all('p', class_='wyg-text-info')\n",
    "    for header in header_info:\n",
    "        tour_info.append(header.get_text(strip=True))\n",
    "\n",
    "    detailed_info = soup.find_all('li', class_='wyg-intro-list-item')\n",
    "    for detail in detailed_info:\n",
    "        tour_info.append(detail.get_text(strip=True))\n",
    "\n",
    "    contents.append(tour_info)"
   ]
  },
  {
   "cell_type": "code",
   "execution_count": 24,
   "id": "27d6d1d2-13af-4c42-b21e-d9eb2c0590c3",
   "metadata": {},
   "outputs": [
    {
     "data": {
      "text/plain": [
       "[[\"Discover the diversity of Peru on this fascinating active journey through the country's highlights. Explore the floating reeds of Lake Titicaca, travel through the Andes Mountains to Cusco and head into the Sacred Valley to trek the spectacular Inca Trail.\",\n",
       "  'Lake Titicaca- Explore the floating islands of the magnificent lake and spend the night in a local homestay.',\n",
       "  'The Inca Trail- Follow in the footsteps of the Incas to Machu Picchu on this bucket list-worthy trek.',\n",
       "  'Alternative Rainbow Mountain- Take the spectacular Palccoyo trek through a landscape of multi-coloured mountains.',\n",
       "  'Quarry Trail- When Inca permits have sold out, we offer the Quarry Trek, a quieter route with fewer crowds and spectacular views, joining the final day of the Inca Trail into Machu Picchu.'],\n",
       " ['Traveling along 2,000 miles of coastline we experience spectacular landscapes, try fresh and tasty local food, explore UNESCO-listed towns and learn about the ancient and modern history on this epic journey across Vietnam.',\n",
       "  'Hanoi- Wander through the bustling narrow streets of the Old Quarter',\n",
       "  'Hue- Explore the magnificent Imperial Citadel and cruise along the Perfume River',\n",
       "  'Mekong Delta- Take a sampan along palm-lined canals and barter for exotic fruit.'],\n",
       " ['Journey through the heart of Morocco by bike on this fast-paced cycling tour. Pedal through the remote Hamada Desert of the Sahara and take on the exhilarating High Atlas descent through Berber heartland. Pass through cool oases and traditional villages, exploring the Medinas and kasbahs within, before uncovering the hidden gems of Marrakech.',\n",
       "  \"Cycle the Atlas Mountains- Take on the thrilling descent from the scenic High Atlas Mountain pass of Tizi N'Fedrhate.\",\n",
       "  'Camp in the Sahara- Ride into the dunes of the Sahara on camelback before spending a night under the stars.',\n",
       "  'Explore the Red City- Get lost in the maze-like souks of majestic Marrakech.']]"
      ]
     },
     "execution_count": 24,
     "metadata": {},
     "output_type": "execute_result"
    }
   ],
   "source": [
    "contents"
   ]
  },
  {
   "cell_type": "code",
   "execution_count": 4,
   "id": "33399538-4693-4813-b670-3a08bc586051",
   "metadata": {},
   "outputs": [],
   "source": [
    "corpus_of_documents = []\n",
    "for item in contents:\n",
    "    full_details = ' '.join(item)\n",
    "    corpus_of_documents.append(full_details)"
   ]
  },
  {
   "cell_type": "code",
   "execution_count": 25,
   "id": "6a5012a8-26c6-4f7c-83e6-3ccd8b9f365a",
   "metadata": {},
   "outputs": [
    {
     "data": {
      "text/plain": [
       "['Traveling along 2,000 miles of coastline we experience spectacular landscapes, try fresh and tasty local food, explore UNESCO-listed towns and learn about the ancient and modern history on this epic journey across Vietnam.',\n",
       " 'Hanoi- Wander through the bustling narrow streets of the Old Quarter',\n",
       " 'Hue- Explore the magnificent Imperial Citadel and cruise along the Perfume River',\n",
       " 'Mekong Delta- Take a sampan along palm-lined canals and barter for exotic fruit.']"
      ]
     },
     "execution_count": 25,
     "metadata": {},
     "output_type": "execute_result"
    }
   ],
   "source": [
    "contents[1]"
   ]
  },
  {
   "cell_type": "code",
   "execution_count": null,
   "id": "8697daea-7238-4279-bca0-d6c4a945d5f0",
   "metadata": {},
   "outputs": [],
   "source": []
  }
 ],
 "metadata": {
  "kernelspec": {
   "display_name": "Python 3 (ipykernel)",
   "language": "python",
   "name": "python3"
  },
  "language_info": {
   "codemirror_mode": {
    "name": "ipython",
    "version": 3
   },
   "file_extension": ".py",
   "mimetype": "text/x-python",
   "name": "python",
   "nbconvert_exporter": "python",
   "pygments_lexer": "ipython3",
   "version": "3.9.6"
  }
 },
 "nbformat": 4,
 "nbformat_minor": 5
}
